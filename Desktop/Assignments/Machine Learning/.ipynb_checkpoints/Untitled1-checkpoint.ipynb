{
 "cells": [
  {
   "cell_type": "code",
   "execution_count": 1,
   "metadata": {},
   "outputs": [
    {
     "name": "stdout",
     "output_type": "stream",
     "text": [
      "List 1 : [0, 1, 2, 3, 4, 5]\n",
      "List 2 : [0, 1, 2, 3, 4, 5]\n",
      "Array of List 1 and List 2 : [[ 0  1  2  3  4  5]\n",
      " [ 0  1  4  9 16 25]]\n",
      "Dataframe with column labels 'x' and 'y' :    x   y\n",
      "0  0   0\n",
      "1  1   1\n",
      "2  2   4\n",
      "3  3   9\n",
      "4  4  16\n",
      "5  5  25\n",
      "Plotting x v/s y\n",
      "Average of column label 'y' is : 9.166666666666666\n"
     ]
    },
    {
     "data": {
      "text/plain": [
       "9.166666666666666"
      ]
     },
     "execution_count": 1,
     "metadata": {},
     "output_type": "execute_result"
    }
   ],
   "source": [
    "import numpy\n",
    "import pandas\n",
    "import matplotlib.pyplot\n",
    "lstCol1=list(range(0,6)) #stores range 0 to 5 in a list\n",
    "print(\"List 1 :\",lstCol1)\n",
    "lstCol2=[0,1,4,9,16,25] #creates list2\n",
    "print(\"List 2 :\",lstCol1)\n",
    "arr=numpy.array([lstCol1,lstCol2]) #creates 6 X 2 array with lstCol1 and lstCol2 \n",
    "print(\"Array of List 1 and List 2 :\",arr) #prints that array\n",
    "dframe=pandas.DataFrame({'x':lstCol1,'y':lstCol2}) #put that array in a dataframe with column labels 'x' and 'y'\n",
    "print(dframe) #prints dframe\n",
    "print(\"Plotting x v/s y\")\n",
    "matplotlib.pyplot.plot(lstCol1,lstCol2) #plot x v/s y using matplotlib\n",
    "print(\"Average of column label 'y' is :\",dframe.loc[:,\"y\"].mean())\t\n",
    "dframe.loc[:,\"y\"].mean() #using the mean function of dframe to locate column label 'y' and calculate average"
   ]
  },
  {
   "cell_type": "code",
   "execution_count": null,
   "metadata": {},
   "outputs": [],
   "source": []
  }
 ],
 "metadata": {
  "kernelspec": {
   "display_name": "Python 3",
   "language": "python",
   "name": "python3"
  },
  "language_info": {
   "codemirror_mode": {
    "name": "ipython",
    "version": 3
   },
   "file_extension": ".py",
   "mimetype": "text/x-python",
   "name": "python",
   "nbconvert_exporter": "python",
   "pygments_lexer": "ipython3",
   "version": "3.6.5"
  }
 },
 "nbformat": 4,
 "nbformat_minor": 2
}

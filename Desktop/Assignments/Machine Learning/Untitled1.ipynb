{
 "cells": [
  {
   "cell_type": "code",
   "execution_count": 6,
   "metadata": {},
   "outputs": [
    {
     "name": "stdout",
     "output_type": "stream",
     "text": [
      "{'Team1': '4', 'Team2': '3', 'Team3': '5', 'Team4': '2'}\n",
      "{'Team1': '4', 'Team2': '3', 'Team3': '5', 'Team4': '2', 'Team5': '5'}\n",
      "dict_keys(['Team1', 'Team2', 'Team3', 'Team4', 'Team5'])\n",
      "[1, 1, 1, 1, 1]\n",
      "3.8\n"
     ]
    }
   ],
   "source": [
    "Scores={'Team1':'4','Team2':'3','Team3':'5','Team4':'2'} #creates Scores dictionary\n",
    "print (Scores) #prints Scores dictionary\n",
    "Scores['Team5']='5' #add new key:val pair to Scores dictionary\n",
    "print(Scores) #prints updated Scores dictionary\n",
    "print(Scores.keys()) #print all keys of dictionary\n",
    "lenVal=[len(v) for v in Scores.values()]  #gets length of individual values of each key\n",
    "print(lenVal) #prints a list with length of individual values\n",
    "intval=[int(v) for v in Scores.values()] #converts string values to int values and adding them to a list\n",
    "avglistval=sum(intval)/len(intval) #calculates average of list values\n",
    "print(avglistval) #prints average of list"
   ]
  },
  {
   "cell_type": "markdown",
   "metadata": {},
   "source": [
    "\\begin{align}\n",
    "\\dot{x} & = \\sigma(y-x) \\\\\n",
    "\\dot{y} & = \\rho x - y - xz \\\\\n",
    "\\dot{z} & = -\\beta z + xy\n",
    "\\end{align}"
   ]
  },
  {
   "cell_type": "markdown",
   "metadata": {},
   "source": [
    "Pritchard, A. (1969). Statistical bibliography or bibliometrics. Journal of documentation, 25(4), 348-349."
   ]
  },
  {
   "cell_type": "markdown",
   "metadata": {},
   "source": [
    "\\begin{equation*}\n",
    "\\left( \\sum_{k=1}^n a_k b_k \\right)^2 \\leq \\left( \\sum_{k=1}^n a_k^2 \\right) \\left( \\sum_{k=1}^n b_k^2 \\right)\n",
    "\\end{equation*}"
   ]
  }
 ],
 "metadata": {
  "kernelspec": {
   "display_name": "Python 3",
   "language": "python",
   "name": "python3"
  },
  "language_info": {
   "codemirror_mode": {
    "name": "ipython",
    "version": 3
   },
   "file_extension": ".py",
   "mimetype": "text/x-python",
   "name": "python",
   "nbconvert_exporter": "python",
   "pygments_lexer": "ipython3",
   "version": "3.6.5"
  }
 },
 "nbformat": 4,
 "nbformat_minor": 2
}
